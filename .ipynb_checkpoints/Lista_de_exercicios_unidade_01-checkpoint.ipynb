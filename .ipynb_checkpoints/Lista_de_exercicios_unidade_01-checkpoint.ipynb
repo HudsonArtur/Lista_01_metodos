{
 "cells": [
  {
   "cell_type": "markdown",
   "id": "f6330d7b",
   "metadata": {},
   "source": [
    "## Lista de Exercícios da Disciplina de Métodos Computacios em Engenharia – Primeira Unidade"
   ]
  },
  {
   "cell_type": "markdown",
   "id": "b5e1a669",
   "metadata": {},
   "source": [
    "### Hudson Artur de Lima Andrade – Engenharia Elétrica"
   ]
  },
  {
   "cell_type": "markdown",
   "id": "504ff592",
   "metadata": {},
   "source": [
    "1. (Valor: 1.5 pontos) - Ajuste os valores da tabela a uma equação do tipo y = ax^b. \n",
    "Saída do programa: Valores de a, b, e diagrama de dispersão com a curva de ajuste."
   ]
  },
  {
   "cell_type": "code",
   "execution_count": 1,
   "id": "8606e596",
   "metadata": {},
   "outputs": [],
   "source": [
    "import numpy as np\n",
    "import matplotlib.pyplot as plt"
   ]
  },
  {
   "cell_type": "code",
   "execution_count": 2,
   "id": "92423b59",
   "metadata": {},
   "outputs": [],
   "source": [
    "x   =    np.array([1.0,   2.0,  3.0,  4.0, 5.0, 6.0, 7.0, 8.0, 9.0, 10.0])\n",
    "\n",
    "y   =    np.array([100.0, 25.0, 11.1, 6.3, 4.0, 2.8, 2.0, 1.6, 1.2, 1.0])\n",
    "\n",
    "n   =    10\n",
    "\n",
    "ln_x = np.log(x)\n",
    "ln_y = np.log(y)"
   ]
  },
  {
   "cell_type": "markdown",
   "id": "ea663a9d",
   "metadata": {},
   "source": [
    "<img src=\"a_&_b_questao_01.jpg\">"
   ]
  },
  {
   "cell_type": "code",
   "execution_count": 3,
   "id": "d0cc45a5",
   "metadata": {},
   "outputs": [],
   "source": [
    "multiplicacao_de_lnx_lny = np.multiply(ln_x,ln_y)"
   ]
  },
  {
   "cell_type": "code",
   "execution_count": 4,
   "id": "5396582b",
   "metadata": {},
   "outputs": [],
   "source": [
    "soma_da_multiplicacao_lnx_lny = np.sum(multiplicacao_de_lnx_lny)"
   ]
  },
  {
   "cell_type": "code",
   "execution_count": 5,
   "id": "a88a641c",
   "metadata": {},
   "outputs": [],
   "source": [
    "soma_de_lny = np.sum(ln_y)"
   ]
  },
  {
   "cell_type": "code",
   "execution_count": 6,
   "id": "741b627e",
   "metadata": {},
   "outputs": [],
   "source": [
    "soma_de_lnx = np.sum(ln_x)"
   ]
  },
  {
   "cell_type": "code",
   "execution_count": 7,
   "id": "3a7bb4f3",
   "metadata": {},
   "outputs": [],
   "source": [
    "multiplicacao_da_soma_de_lnx_lny = (soma_de_lnx*soma_de_lny)"
   ]
  },
  {
   "cell_type": "code",
   "execution_count": 8,
   "id": "1fe12b17",
   "metadata": {},
   "outputs": [],
   "source": [
    "lnx_ao_quadrado = np.power(ln_x,2)"
   ]
  },
  {
   "cell_type": "code",
   "execution_count": 9,
   "id": "7c53ddd4",
   "metadata": {},
   "outputs": [],
   "source": [
    "soma_do_quadrado_de_lnx = np.sum(lnx_ao_quadrado)"
   ]
  },
  {
   "cell_type": "code",
   "execution_count": 10,
   "id": "54eeab7b",
   "metadata": {},
   "outputs": [],
   "source": [
    "quadrado_da_soma_de_lnx = np.power(soma_de_lnx,2)"
   ]
  },
  {
   "cell_type": "code",
   "execution_count": 11,
   "id": "e9963bcb",
   "metadata": {},
   "outputs": [],
   "source": [
    "b1 = (n*(soma_da_multiplicacao_lnx_lny) - (multiplicacao_da_soma_de_lnx_lny))/((n*soma_do_quadrado_de_lnx)-(quadrado_da_soma_de_lnx))"
   ]
  },
  {
   "cell_type": "code",
   "execution_count": 25,
   "id": "3ef80529",
   "metadata": {},
   "outputs": [
    {
     "name": "stdout",
     "output_type": "stream",
     "text": [
      "Valor de b1: -2.002717752572164\n"
     ]
    }
   ],
   "source": [
    "print('Valor de b1:', b1)"
   ]
  },
  {
   "cell_type": "code",
   "execution_count": 28,
   "id": "992ea1e0",
   "metadata": {},
   "outputs": [
    {
     "name": "stdout",
     "output_type": "stream",
     "text": [
      "Valor de soma_de_lny * n: 158.32926897472754\n"
     ]
    }
   ],
   "source": [
    "print('Valor de soma_de_lny * n:', soma_de_lny*n)"
   ]
  },
  {
   "cell_type": "code",
   "execution_count": 29,
   "id": "1c893826",
   "metadata": {},
   "outputs": [
    {
     "name": "stdout",
     "output_type": "stream",
     "text": [
      "Valor de soma_de_lnx * b1: -30.249875202272527\n"
     ]
    }
   ],
   "source": [
    "print('Valor de soma_de_lnx * b1:', soma_de_lnx * b1)"
   ]
  },
  {
   "cell_type": "code",
   "execution_count": 30,
   "id": "d37fc315",
   "metadata": {},
   "outputs": [
    {
     "name": "stdout",
     "output_type": "stream",
     "text": [
      "Valor de soma_de_lnx: 15.104412573075514\n"
     ]
    }
   ],
   "source": [
    "print('Valor de soma_de_lnx:', soma_de_lnx)"
   ]
  },
  {
   "cell_type": "code",
   "execution_count": 26,
   "id": "b996de1c",
   "metadata": {},
   "outputs": [],
   "source": [
    "b0 = ((n*soma_de_lny) - (soma_de_lnx*b1))/n"
   ]
  },
  {
   "cell_type": "code",
   "execution_count": 27,
   "id": "7311f669",
   "metadata": {},
   "outputs": [
    {
     "name": "stdout",
     "output_type": "stream",
     "text": [
      "Valor de b0: 18.85791441770001\n"
     ]
    }
   ],
   "source": [
    "print('Valor de b0:', b0)"
   ]
  },
  {
   "cell_type": "code",
   "execution_count": 15,
   "id": "2fea6136",
   "metadata": {},
   "outputs": [],
   "source": [
    "z = np.polyfit(ln_x, y, 1)\n",
    "p = np.poly1d(z)"
   ]
  },
  {
   "cell_type": "code",
   "execution_count": 16,
   "id": "10931912",
   "metadata": {},
   "outputs": [
    {
     "data": {
      "image/png": "[encoded data removed]",
      "text/plain": [
       "<Figure size 640x480 with 1 Axes>"
      ]
     },
     "metadata": {},
     "output_type": "display_data"
    }
   ],
   "source": [
    "plt.scatter(x, y)\n",
    "plt.plot(x, p(ln_x), color=\"aquamarine\", linewidth=3, linestyle=\"--\", label=\"Linha de Tendência\")\n",
    "plt.title('Gráfico da Questão 01')\n",
    "plt.xlabel('Eixo X')\n",
    "plt.ylabel('Eixo Y')\n",
    "plt.show()"
   ]
  },
  {
   "cell_type": "code",
   "execution_count": 31,
   "id": "7498b175",
   "metadata": {},
   "outputs": [
    {
     "name": "stdout",
     "output_type": "stream",
     "text": [
      "Valor de a: -2.002717752572164\n",
      "Valor de b: 18.85791441770001\n"
     ]
    }
   ],
   "source": [
    "print('Valor de a:', b1)\n",
    "print('Valor de b:', b0)"
   ]
  },
  {
   "cell_type": "markdown",
   "id": "b4ab7827",
   "metadata": {},
   "source": [
    "2. Ajuste o índice de refração, no intervalo [0.5, 1.1], com incrementos em λ iguais a 0.1, pela equação dada. Saída do programa: Valores de a, b, curvas de n(λ) exata e ajustada e valor do erro relativo em λ = 0.98.\n"
   ]
  }
 ],
 "metadata": {
  "kernelspec": {
   "display_name": "Python 3 (ipykernel)",
   "language": "python",
   "name": "python3"
  },
  "language_info": {
   "codemirror_mode": {
    "name": "ipython",
    "version": 3
   },
   "file_extension": ".py",
   "mimetype": "text/x-python",
   "name": "python",
   "nbconvert_exporter": "python",
   "pygments_lexer": "ipython3",
   "version": "3.11.5"
  }
 },
 "nbformat": 4,
 "nbformat_minor": 5
}
