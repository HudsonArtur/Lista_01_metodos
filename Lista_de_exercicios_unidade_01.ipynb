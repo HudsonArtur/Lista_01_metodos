{
 "cells": [
  {
   "cell_type": "markdown",
   "id": "f6330d7b",
   "metadata": {},
   "source": [
    "## Lista de Exercícios da Disciplina de Métodos Computacios em Engenharia – Primeira Unidade"
   ]
  },
  {
   "cell_type": "markdown",
   "id": "b5e1a669",
   "metadata": {},
   "source": [
    "### Hudson Artur de Lima Andrade – Engenharia Elétrica"
   ]
  },
  {
   "cell_type": "markdown",
   "id": "504ff592",
   "metadata": {},
   "source": [
    "1. (Valor: 1.5 pontos) - Ajuste os valores da tabela a uma equação do tipo y = ax^b. \n",
    "Saída do programa: Valores de a, b, e diagrama de dispersão com a curva de ajuste."
   ]
  },
  {
   "cell_type": "code",
   "execution_count": 1,
   "id": "8606e596",
   "metadata": {},
   "outputs": [],
   "source": [
    "import numpy as np\n",
    "import matplotlib.pyplot as plt"
   ]
  },
  {
   "cell_type": "code",
   "execution_count": 2,
   "id": "92423b59",
   "metadata": {},
   "outputs": [],
   "source": [
    "x   =    np.array([1.0,   2.0,  3.0,  4.0, 5.0, 6.0, 7.0, 8.0, 9.0, 10.0])\n",
    "\n",
    "y   =    np.array([100.0, 25.0, 11.1, 6.3, 4.0, 2.8, 2.0, 1.6, 1.2, 1.0])\n",
    "\n",
    "n   =    10\n",
    "\n",
    "ln_x = np.log(x)\n",
    "ln_y = np.log(y)"
   ]
  },
  {
   "cell_type": "code",
   "execution_count": 3,
   "id": "a55c960e",
   "metadata": {},
   "outputs": [],
   "source": [
    "def descobreB1(n, x, y):\n",
    "    b1 = ((n * np.sum(x*y)) - (np.sum(x) * np.sum(y))) / (n * np.sum(x*x) - (np.sum(x) * np.sum(x)))\n",
    "    \n",
    "    return b1"
   ]
  },
  {
   "cell_type": "code",
   "execution_count": 4,
   "id": "4db34696",
   "metadata": {},
   "outputs": [],
   "source": [
    "def descobreB0(n, x, y, b1):\n",
    "    b0 = (np.sum(y) - (np.sum(x) * b1)) / n\n",
    "    \n",
    "    return b0"
   ]
  },
  {
   "cell_type": "code",
   "execution_count": 5,
   "id": "29be36da",
   "metadata": {},
   "outputs": [],
   "source": [
    "def erroRelativo(valor_exato, valor_aproximado):\n",
    "    erroRelativo = np.absolute((valor_exato - valor_aproximado)/valor_exato)\n",
    "    \n",
    "    return erroRelativo"
   ]
  },
  {
   "cell_type": "markdown",
   "id": "ea663a9d",
   "metadata": {},
   "source": [
    "<img src=\"a_&_b_questao_01.jpg\">"
   ]
  },
  {
   "cell_type": "code",
   "execution_count": 6,
   "id": "e9963bcb",
   "metadata": {},
   "outputs": [],
   "source": [
    "b1 = descobreB1(n, ln_x, ln_y)"
   ]
  },
  {
   "cell_type": "code",
   "execution_count": 7,
   "id": "3ef80529",
   "metadata": {},
   "outputs": [
    {
     "name": "stdout",
     "output_type": "stream",
     "text": [
      "Valor de b1: -2.002717752572164\n"
     ]
    }
   ],
   "source": [
    "print('Valor de b1:', b1)"
   ]
  },
  {
   "cell_type": "code",
   "execution_count": 8,
   "id": "b996de1c",
   "metadata": {},
   "outputs": [],
   "source": [
    "b0 = descobreB0(n, ln_x, ln_y, b1)"
   ]
  },
  {
   "cell_type": "code",
   "execution_count": 9,
   "id": "7311f669",
   "metadata": {},
   "outputs": [
    {
     "name": "stdout",
     "output_type": "stream",
     "text": [
      "Valor do ln b0: 4.608280209974528\n"
     ]
    }
   ],
   "source": [
    "print('Valor do ln b0:', b0)"
   ]
  },
  {
   "cell_type": "code",
   "execution_count": 10,
   "id": "630465fe",
   "metadata": {},
   "outputs": [],
   "source": [
    "b0 = np.exp(b0)"
   ]
  },
  {
   "cell_type": "code",
   "execution_count": 11,
   "id": "73cf4545",
   "metadata": {},
   "outputs": [
    {
     "name": "stdout",
     "output_type": "stream",
     "text": [
      "Valor do b0: 100.31148651284232\n"
     ]
    }
   ],
   "source": [
    "print('Valor do b0:', b0)"
   ]
  },
  {
   "cell_type": "code",
   "execution_count": 12,
   "id": "2fea6136",
   "metadata": {},
   "outputs": [],
   "source": [
    "z = np.polyfit(ln_x, y, 1)\n",
    "p = np.poly1d(z)"
   ]
  },
  {
   "cell_type": "code",
   "execution_count": 13,
   "id": "10931912",
   "metadata": {},
   "outputs": [
    {
     "data": {
      "image/png": "[encoded data removed]",
      "text/plain": [
       "<Figure size 640x480 with 1 Axes>"
      ]
     },
     "metadata": {},
     "output_type": "display_data"
    }
   ],
   "source": [
    "plt.scatter(x, y)\n",
    "plt.plot(x, p(ln_x), color=\"aquamarine\", linewidth=3, linestyle=\"--\", label=\"curva de ajuste\")\n",
    "plt.title('Gráfico da Questão 01')\n",
    "plt.xlabel('Eixo X')\n",
    "plt.ylabel('Eixo Y')\n",
    "plt.legend()\n",
    "plt.show()"
   ]
  },
  {
   "cell_type": "code",
   "execution_count": 14,
   "id": "7498b175",
   "metadata": {},
   "outputs": [
    {
     "name": "stdout",
     "output_type": "stream",
     "text": [
      "Valor aproximado de a: -2.002717752572164\n",
      "Valor aproximado de b: 100.31148651284232\n"
     ]
    }
   ],
   "source": [
    "print('Valor aproximado de a:', b1)\n",
    "print('Valor aproximado de b:', b0)"
   ]
  },
  {
   "cell_type": "markdown",
   "id": "b4ab7827",
   "metadata": {},
   "source": [
    "2. Ajuste o índice de refração, no intervalo [0.5, 1.1], com incrementos em λ iguais a 0.1, pela equação dada. Saída do programa: Valores de a, b, curvas de n(λ) exata e ajustada e valor do erro relativo em λ = 0.98.\n"
   ]
  },
  {
   "cell_type": "code",
   "execution_count": 15,
   "id": "cea707d1",
   "metadata": {},
   "outputs": [],
   "source": [
    "a_i  = np.array([0.73454395,  0.42710828, 0.82103399])\n",
    "\n",
    "li_2 = np.array([0.007564986, 0.01253323, 117.64743])\n",
    "\n",
    "itens = 7"
   ]
  },
  {
   "cell_type": "code",
   "execution_count": 16,
   "id": "70bb901e",
   "metadata": {},
   "outputs": [],
   "source": [
    "n = 0\n",
    "n_quadrado_lamb = []\n",
    "k = 0.5\n",
    "\n",
    "while(k <= 1.1):\n",
    "    n = 0\n",
    "    for i, j in zip(a_i,li_2):\n",
    "        n = n + (i*k*k)/((k*k) - j)\n",
    "    k += 0.1\n",
    "    n += 1\n",
    "    n_quadrado_lamb.append(n)\n",
    "    "
   ]
  },
  {
   "cell_type": "code",
   "execution_count": 17,
   "id": "aea6029b",
   "metadata": {},
   "outputs": [
    {
     "data": {
      "text/plain": [
       "[2.2053669614894647,\n",
       " 2.1903050056249933,\n",
       " 2.1809479462308308,\n",
       " 2.174478972494324,\n",
       " 2.1695977435161304,\n",
       " 2.165633796402613,\n",
       " 2.162211780422886]"
      ]
     },
     "execution_count": 17,
     "metadata": {},
     "output_type": "execute_result"
    }
   ],
   "source": [
    "n_quadrado_lamb"
   ]
  },
  {
   "cell_type": "code",
   "execution_count": 18,
   "id": "2e004e8a",
   "metadata": {},
   "outputs": [],
   "source": [
    "n_lamb = np.sqrt(n_quadrado_lamb)"
   ]
  },
  {
   "cell_type": "code",
   "execution_count": 19,
   "id": "704c74fc",
   "metadata": {},
   "outputs": [
    {
     "data": {
      "text/plain": [
       "numpy.ndarray"
      ]
     },
     "execution_count": 19,
     "metadata": {},
     "output_type": "execute_result"
    }
   ],
   "source": [
    "type(n_lamb)"
   ]
  },
  {
   "cell_type": "code",
   "execution_count": 20,
   "id": "3bd6ea3b",
   "metadata": {},
   "outputs": [],
   "source": [
    "lista_lambda = np.array([0.5, 0.6, 0.7, 0.8, 0.9, 1.0, 1.1])"
   ]
  },
  {
   "cell_type": "code",
   "execution_count": 21,
   "id": "ecab43ad",
   "metadata": {
    "scrolled": true
   },
   "outputs": [
    {
     "name": "stdout",
     "output_type": "stream",
     "text": [
      "Valor de n_lamb: [1.4850478  1.47996791 1.47680329 1.47461146 1.47295545 1.47160925\n",
      " 1.47044612]\n"
     ]
    }
   ],
   "source": [
    "print('Valor de n_lamb:', n_lamb)"
   ]
  },
  {
   "cell_type": "code",
   "execution_count": 22,
   "id": "1c77473f",
   "metadata": {},
   "outputs": [],
   "source": [
    "ln_n_lambda = np.log(1/n_lamb - 0.5)"
   ]
  },
  {
   "cell_type": "code",
   "execution_count": 23,
   "id": "de6ebff7",
   "metadata": {},
   "outputs": [
    {
     "data": {
      "text/plain": [
       "array([-1.75227533, -1.73903234, -1.73082475, -1.72515895, -1.72088826,\n",
       "       -1.71742293, -1.71443337])"
      ]
     },
     "execution_count": 23,
     "metadata": {},
     "output_type": "execute_result"
    }
   ],
   "source": [
    "ln_n_lambda"
   ]
  },
  {
   "cell_type": "code",
   "execution_count": 24,
   "id": "a72bef9f",
   "metadata": {},
   "outputs": [],
   "source": [
    "b1 = descobreB1(itens, lista_lambda, ln_n_lambda)"
   ]
  },
  {
   "cell_type": "code",
   "execution_count": 25,
   "id": "bb7c0d6b",
   "metadata": {},
   "outputs": [
    {
     "data": {
      "text/plain": [
       "0.05952899353171738"
      ]
     },
     "execution_count": 25,
     "metadata": {},
     "output_type": "execute_result"
    }
   ],
   "source": [
    "b1"
   ]
  },
  {
   "cell_type": "code",
   "execution_count": 26,
   "id": "41132ca3",
   "metadata": {},
   "outputs": [],
   "source": [
    "b0 = descobreB0(itens, lista_lambda, ln_n_lambda, b1)"
   ]
  },
  {
   "cell_type": "code",
   "execution_count": 27,
   "id": "4594609a",
   "metadata": {},
   "outputs": [
    {
     "data": {
      "text/plain": [
       "-1.7761997559701137"
      ]
     },
     "execution_count": 27,
     "metadata": {},
     "output_type": "execute_result"
    }
   ],
   "source": [
    "b0"
   ]
  },
  {
   "cell_type": "code",
   "execution_count": 28,
   "id": "0b724384",
   "metadata": {},
   "outputs": [],
   "source": [
    "z = np.polyfit(lista_lambda, n_lamb, 1)\n",
    "p = np.poly1d(z)"
   ]
  },
  {
   "cell_type": "code",
   "execution_count": 29,
   "id": "8ba24539",
   "metadata": {},
   "outputs": [],
   "source": [
    "n_lambda_98_exato = (1/(0.5 + np.exp(b0 + b1*0.98)))"
   ]
  },
  {
   "cell_type": "code",
   "execution_count": 30,
   "id": "98f353b9",
   "metadata": {},
   "outputs": [
    {
     "data": {
      "text/plain": [
       "1.4717796865984032"
      ]
     },
     "execution_count": 30,
     "metadata": {},
     "output_type": "execute_result"
    }
   ],
   "source": [
    "n_lambda_98_exato"
   ]
  },
  {
   "cell_type": "code",
   "execution_count": 31,
   "id": "c2283610",
   "metadata": {},
   "outputs": [],
   "source": [
    "n_lambda_98_aproximado = b0 + b1*0.98"
   ]
  },
  {
   "cell_type": "code",
   "execution_count": 32,
   "id": "9fa18bd5",
   "metadata": {},
   "outputs": [
    {
     "data": {
      "text/plain": [
       "-1.7178613423090308"
      ]
     },
     "execution_count": 32,
     "metadata": {},
     "output_type": "execute_result"
    }
   ],
   "source": [
    "n_lambda_98_aproximado"
   ]
  },
  {
   "cell_type": "code",
   "execution_count": 33,
   "id": "38c9d56d",
   "metadata": {},
   "outputs": [],
   "source": [
    "valor_aproximado_lambda_98 = (1/(np.exp(n_lambda_98_aproximado)+0.5))"
   ]
  },
  {
   "cell_type": "code",
   "execution_count": 34,
   "id": "c045c326",
   "metadata": {},
   "outputs": [
    {
     "data": {
      "text/plain": [
       "1.4717796865984032"
      ]
     },
     "execution_count": 34,
     "metadata": {},
     "output_type": "execute_result"
    }
   ],
   "source": [
    "valor_aproximado_lambda_98"
   ]
  },
  {
   "cell_type": "code",
   "execution_count": 35,
   "id": "52bb8aa7",
   "metadata": {},
   "outputs": [],
   "source": [
    "n_lambda_erroRelativo = erroRelativo(n_lambda_98_exato, valor_aproximado_lambda_98)"
   ]
  },
  {
   "cell_type": "code",
   "execution_count": 36,
   "id": "4b918880",
   "metadata": {},
   "outputs": [
    {
     "name": "stdout",
     "output_type": "stream",
     "text": [
      "Valor de a: -1.7761997559701137\n",
      "Valor de b: 0.05952899353171738\n"
     ]
    }
   ],
   "source": [
    "print('Valor de a:', b0)\n",
    "print('Valor de b:', b1)"
   ]
  },
  {
   "cell_type": "code",
   "execution_count": 37,
   "id": "ba6044d8",
   "metadata": {},
   "outputs": [
    {
     "data": {
      "image/png": "[encoded data removed]",
      "text/plain": [
       "<Figure size 640x480 with 1 Axes>"
      ]
     },
     "metadata": {},
     "output_type": "display_data"
    }
   ],
   "source": [
    "plt.plot(lista_lambda, n_lamb, label=\"curva exata\")\n",
    "plt.plot(lista_lambda, p(lista_lambda), color=\"red\", linewidth=3, linestyle=\"--\", label=\"curva de ajuste\")\n",
    "plt.title('Gráfico da Questão 02')\n",
    "plt.xlabel('Eixo λ')\n",
    "plt.ylabel('Eixo n(λ)')\n",
    "plt.legend()\n",
    "plt.show()"
   ]
  },
  {
   "cell_type": "code",
   "execution_count": 38,
   "id": "f8065197",
   "metadata": {},
   "outputs": [
    {
     "name": "stdout",
     "output_type": "stream",
     "text": [
      "Valor do erro relativo em λ=0.98: 0.0\n"
     ]
    }
   ],
   "source": [
    "print('Valor do erro relativo em λ=0.98:', n_lambda_erroRelativo)"
   ]
  }
 ],
 "metadata": {
  "kernelspec": {
   "display_name": "Python 3 (ipykernel)",
   "language": "python",
   "name": "python3"
  },
  "language_info": {
   "codemirror_mode": {
    "name": "ipython",
    "version": 3
   },
   "file_extension": ".py",
   "mimetype": "text/x-python",
   "name": "python",
   "nbconvert_exporter": "python",
   "pygments_lexer": "ipython3",
   "version": "3.11.5"
  }
 },
 "nbformat": 4,
 "nbformat_minor": 5
}
